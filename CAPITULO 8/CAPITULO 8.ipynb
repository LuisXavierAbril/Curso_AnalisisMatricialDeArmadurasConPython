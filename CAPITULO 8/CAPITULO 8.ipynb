{
 "cells": [
  {
   "cell_type": "markdown",
   "metadata": {},
   "source": [
    "# CAPÍTULO 8."
   ]
  },
  {
   "cell_type": "markdown",
   "metadata": {},
   "source": [
    "## DATOS DE LAS TABLAS:"
   ]
  },
  {
   "cell_type": "code",
   "execution_count": 3,
   "metadata": {},
   "outputs": [],
   "source": [
    "\n",
    "# Tabla de Elementos:\n",
    "tbl_Elem = [\n",
    "    ['E1', 1, 1, 'N5', 'N1'],\n",
    "    ['E2', 1, 1, 'N2', 'N1'],\n",
    "    ['E3', 1, 1, 'N3', 'N2'],\n",
    "    ['E4', 1, 1, 'N2', 'N5'],\n",
    "    ['E5', 1, 1, 'N3', 'N5'],\n",
    "    ['E6', 1, 1, 'N4', 'N5'],\n",
    "    ['E7', 1, 1, 'N4', 'N3']]\n",
    "    \n",
    "# Tabla de Nodos:\n",
    "tbl_Nods = [\n",
    "    ['N1', 14, 7, \"Libre\"],\n",
    "    ['N2', 7, 7, \"Libre\"],\n",
    "    ['N3', 0, 7, \"Fijo\"],\n",
    "    ['N4', 0, 0, \"Fijo\"],\n",
    "    ['N5', 7, 0, \"Libre\"]]\n",
    "\n",
    "# Tabla de Fuerzas:\n",
    "tbl_Frza = [\n",
    "    [ -3, 'N2', 'DY'],\n",
    "    [ -2, 'N1', 'DX']\n",
    "]\n",
    "\n",
    "# Tabla de Desplazamientos:\n",
    "tbl_Desp = [\n",
    "    [ 0, 'N3', 'DX'],\n",
    "    [ 0, 'N3', 'DY'],\n",
    "    [ 0, 'N4', 'DX'],\n",
    "    [ 0, 'N4', 'DY']]\n",
    "\n",
    "# Diccionario Nodal:\n",
    "N = {'N1': [14, 7, 1, 2], 'N2': [7, 7, 3, 4], 'N3': [0, 7, 9, 10], 'N4': [0, 0, 7, 8], 'N5': [7, 0, 5, 6]}"
   ]
  },
  {
   "cell_type": "markdown",
   "metadata": {},
   "source": [
    "# CÓDIGO PARA EL DIBUJO."
   ]
  },
  {
   "cell_type": "code",
   "execution_count": 23,
   "metadata": {},
   "outputs": [
    {
     "data": {
      "text/plain": [
       "(-3.5, 10.5)"
      ]
     },
     "execution_count": 23,
     "metadata": {},
     "output_type": "execute_result"
    },
    {
     "data": {
      "image/png": "[encoded data removed]",
      "text/plain": [
       "<Figure size 432x288 with 1 Axes>"
      ]
     },
     "metadata": {
      "needs_background": "light"
     },
     "output_type": "display_data"
    }
   ],
   "source": [
    "#############\n",
    "# Librerias #\n",
    "#############\n",
    "\n",
    "import matplotlib.pyplot as plt\n",
    "\n",
    "####################################\n",
    "# Dibujo de las barras (Elementos) #\n",
    "####################################\n",
    "\n",
    "for i in range(len(tbl_Elem)):\n",
    "    NI = tbl_Elem[i][3]\n",
    "    NF = tbl_Elem[i][4]\n",
    "    xi = N[NI][0]\n",
    "    yi = N[NI][1]\n",
    "    xf = N[NF][0]\n",
    "    yf = N[NF][1]\n",
    "    plt.plot([xi, xf],[yi, yf], 'k-', linewidth = 5)\n",
    "    \n",
    "##############################################\n",
    "# Dibujo de los apoyos (Libre, Fijo, DX, DY) #\n",
    "##############################################\n",
    "\n",
    "for i in range(len(tbl_Nods)):\n",
    "    cx = tbl_Nods[i][1]\n",
    "    cy = tbl_Nods[i][2]\n",
    "    fig = tbl_Nods[i][3]\n",
    "    if fig == \"Libre\":\n",
    "        plt.plot(cx, cy, 'oc', ms = 15)\n",
    "    elif fig == \"Fijo\":\n",
    "        plt.plot(cx, cy, 'sr', ms = 15)\n",
    "    elif fig == \"DX\":\n",
    "        plt.plot(cx, cy, '^r', ms = 15)\n",
    "    elif fig == \"DY\":\n",
    "        plt.plot(cx, cy, '<r', ms = 15)\n",
    "\n",
    "############################\n",
    "# Límite de los ejes X y Y #\n",
    "############################\n",
    "\n",
    "xmax = 0\n",
    "ymax = 0\n",
    "for key in N:\n",
    "    xval = N[key][0]\n",
    "    yval = N[key][1]\n",
    "    if xmax < xval:\n",
    "        xmax = xval\n",
    "    if ymax < yval:\n",
    "        ymax = yval\n",
    "        \n",
    "        \n",
    "#########################\n",
    "# Dibujo de las fuerzas #\n",
    "#########################\n",
    "        \n",
    "def Fuerzas(Direccion, cx, cy, val):\n",
    "    if Direccion == \"DX\":\n",
    "        plt.annotate(\"\", xy = (cx+xmax/3, cy), xytext = (cx, cy), arrowprops = dict(arrowstyle = \"simple\", color = \"m\"), size = 30)\n",
    "        plt.text(cx+xmax/3, cy, str(val), weight = \"bold\", color = \"m\", size = 20)\n",
    "    elif Direccion == \"DY\":\n",
    "        plt.annotate(\"\", xy = (cx, cy+ymax/3), xytext = (cx, cy), arrowprops = dict(arrowstyle = \"simple\", color = \"m\"), size = 30)\n",
    "        plt.text(cx, cy+ymax/3, str(val), weight = \"bold\", color = \"m\", size = 20)\n",
    "        \n",
    "        \n",
    "for i in range(len(tbl_Frza)):\n",
    "    Nod = tbl_Frza[i][1]\n",
    "    cx = N[Nod][0]\n",
    "    cy = N[Nod][1]\n",
    "    Direc = tbl_Frza[i][2]\n",
    "    valor = tbl_Frza[i][0]\n",
    "    Fuerzas(Direc, cx, cy, valor)\n",
    "    \n",
    "    \n",
    "\n",
    "plt.xlim([-0.5*xmax,1.5*xmax])\n",
    "plt.ylim([-0.5*ymax,1.5*ymax])"
   ]
  },
  {
   "cell_type": "code",
   "execution_count": null,
   "metadata": {},
   "outputs": [],
   "source": []
  },
  {
   "cell_type": "code",
   "execution_count": null,
   "metadata": {},
   "outputs": [],
   "source": []
  }
 ],
 "metadata": {
  "kernelspec": {
   "display_name": "Python 3",
   "language": "python",
   "name": "python3"
  },
  "language_info": {
   "codemirror_mode": {
    "name": "ipython",
    "version": 3
   },
   "file_extension": ".py",
   "mimetype": "text/x-python",
   "name": "python",
   "nbconvert_exporter": "python",
   "pygments_lexer": "ipython3",
   "version": "3.7.6"
  }
 },
 "nbformat": 4,
 "nbformat_minor": 4
}
