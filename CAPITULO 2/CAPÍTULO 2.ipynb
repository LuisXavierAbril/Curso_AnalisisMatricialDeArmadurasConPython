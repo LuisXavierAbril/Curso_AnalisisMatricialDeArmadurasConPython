{
 "cells": [
  {
   "cell_type": "markdown",
   "metadata": {},
   "source": [
    "# CAPÍTULO 2."
   ]
  },
  {
   "cell_type": "markdown",
   "metadata": {},
   "source": [
    "## DATOS DEL ELEMENTO."
   ]
  },
  {
   "cell_type": "markdown",
   "metadata": {},
   "source": [
    "<img src=\"Img/datos.png\">"
   ]
  },
  {
   "cell_type": "markdown",
   "metadata": {},
   "source": [
    "## PROPIEDADES DEL ELEMENTO."
   ]
  },
  {
   "cell_type": "markdown",
   "metadata": {},
   "source": [
    "<img src=\"Img/propiedades.png\">"
   ]
  },
  {
   "cell_type": "markdown",
   "metadata": {},
   "source": [
    "## FÓRMULAS PARA LA CLASE: MiembroArmadura()."
   ]
  },
  {
   "cell_type": "markdown",
   "metadata": {},
   "source": [
    "<img src=\"Img/formulas.png\">"
   ]
  },
  {
   "cell_type": "markdown",
   "metadata": {},
   "source": [
    "## CÓDIGO"
   ]
  },
  {
   "cell_type": "code",
   "execution_count": 10,
   "metadata": {},
   "outputs": [],
   "source": [
    "#############\n",
    "# Librerias #\n",
    "#############\n",
    "\n",
    "import math\n",
    "import numpy as np\n",
    "\n",
    "#########\n",
    "# Clase #\n",
    "#########\n",
    "\n",
    "class MiembroArmadura():\n",
    "    '''  \n",
    "    Descripción:\n",
    "    Esta clase sirve para obtener las propiedades de cualquier elemento de una armadura.\n",
    "    \n",
    "    Funciones:\n",
    "    --> Longitud(self)\n",
    "    --> Rig_Loc(self)\n",
    "    --> def Lambda_X(self)\n",
    "    --> def Lambda_Y(self)\n",
    "    --> def Trans(self)\n",
    "    --> def Rig_Glob(self)\n",
    "    \n",
    "    Programó:\n",
    "    Ing. Josue Emmanuel Cruz Barragan\n",
    "    '''\n",
    "    def __init__(self, elemento, area, modElasticidad, coordenada_xi, coordenada_yi, coordenada_xf, coordenada_yf, vec_coord):\n",
    "        \n",
    "        ####################\n",
    "        # Datos de entrada #\n",
    "        ####################\n",
    "        \n",
    "        self.elem = elemento\n",
    "        self.A = area\n",
    "        self.E = modElasticidad\n",
    "        self.xi = coordenada_xi\n",
    "        self.yi = coordenada_yi\n",
    "        self.xf = coordenada_xf\n",
    "        self.yf = coordenada_yf\n",
    "        self.vc = vec_coord\n",
    "        \n",
    "        ###############\n",
    "        # Propiedades #\n",
    "        ###############\n",
    "        \n",
    "        self.L = self.Longitud()\n",
    "        self.k_loc = self.Rig_Loc()\n",
    "        self.lx = self.Lambda_X()\n",
    "        self.ly = self.Lambda_Y()\n",
    "        self.T = self.Trans()\n",
    "        self.k_glob = self.Rig_Glob()\n",
    "        \n",
    "        #######################################################\n",
    "        # Funciones para obtener las propiedades del elemento #\n",
    "        #######################################################\n",
    "        \n",
    "    def __str__(self):\n",
    "        print(\"Area: \", self.A)\n",
    "        print(\"Mod. Elasticidad: \", self.E)\n",
    "        print(\"Coordenadas Iniciales: ({} , {})\".format(self.xi, self.yi))\n",
    "        print(\"Coordenadas Finales: ({} , {})\".format(self.xf, self.yf))\n",
    "        print(\"Vector de Cooredenadas: \", self.vc)\n",
    "        print(\"Longitud: \", self.L)\n",
    "        print(\"Rigidez Local:\", self.k_loc)\n",
    "        print(\"Lx = \", self.lx,\"  Ly = \", self.ly )\n",
    "        print(\"Matriz de Transformacion: \", self.T)\n",
    "        print(\"\")\n",
    "        print(\"Rigidez global del elemento:\", self.k_glob)\n",
    "        return \"\"\n",
    "    \n",
    "    def Longitud(self):\n",
    "        \"\"\"Calcula la longitud del elemento.\"\"\"\n",
    "        return math.sqrt((self.xf-self.xi)**2 + (self.yf-self.yi)**2)\n",
    "    \n",
    "    def Rig_Loc(self):\n",
    "        \"\"\"Calcula la matriz de rigidez local del elemento.\"\"\"\n",
    "        return (self.A*self.E/self.L) * np.array([[1,-1],[-1,1]])\n",
    "    \n",
    "    def Lambda_X(self):\n",
    "        \"\"\"Calcula la lambda X del elemento.\"\"\"\n",
    "        return (self.xf-self.xi)/self.L\n",
    "    \n",
    "    def Lambda_Y(self):\n",
    "        \"\"\"Calcula la lambda Y del elemento.\"\"\"\n",
    "        return (self.yf-self.yi)/self.L\n",
    "    \n",
    "    def Trans(self):\n",
    "        \"\"\"Calcula la matriz de tarnsformación del elemento.\"\"\"\n",
    "        return np.array([[self.lx, self.ly, 0, 0],[0, 0, self.lx, self.ly]])\n",
    "    \n",
    "    def Rig_Glob(self):\n",
    "        \"\"\"Calcula la matriz de rigidez global del elemento.\"\"\"\n",
    "        Tt = np.transpose(self.T)\n",
    "        Tt_k_loc = np.matmul(Tt,self.k_loc)\n",
    "        return np.matmul(Tt_k_loc,self.T)\n",
    "        \n",
    "        "
   ]
  },
  {
   "cell_type": "markdown",
   "metadata": {},
   "source": [
    "## EJEMPLO."
   ]
  },
  {
   "cell_type": "markdown",
   "metadata": {},
   "source": [
    "<img src=\"Img/ejemplo.png\">"
   ]
  },
  {
   "cell_type": "code",
   "execution_count": 13,
   "metadata": {},
   "outputs": [
    {
     "name": "stdout",
     "output_type": "stream",
     "text": [
      "Area:  2\n",
      "Mod. Elasticidad:  1800\n",
      "Coordenadas Iniciales: (0 , 0)\n",
      "Coordenadas Finales: (5 , 7)\n",
      "Vector de Cooredenadas:  [1, 2, 3, 4]\n",
      "Longitud:  8.602325267042627\n",
      "Rigidez Local: [[ 418.49149948 -418.49149948]\n",
      " [-418.49149948  418.49149948]]\n",
      "Lx =  0.5812381937190965   Ly =  0.813733471206735\n",
      "Matriz de Transformacion:  [[0.58123819 0.81373347 0.         0.        ]\n",
      " [0.         0.         0.58123819 0.81373347]]\n",
      "\n",
      "Rigidez global del elemento: [[ 141.38226334  197.93516867 -141.38226334 -197.93516867]\n",
      " [ 197.93516867  277.10923614 -197.93516867 -277.10923614]\n",
      " [-141.38226334 -197.93516867  141.38226334  197.93516867]\n",
      " [-197.93516867 -277.10923614  197.93516867  277.10923614]]\n",
      "\n"
     ]
    }
   ],
   "source": [
    "A = 2 # m2\n",
    "E = 1800 # kgf/m2\n",
    "xi = 0 # m\n",
    "yi = 0 # m\n",
    "xf = 5 # m\n",
    "yf = 7 # m\n",
    "vc = [1, 2, 3, 4]\n",
    "\n",
    "Elem_1 = MiembroArmadura(\"Elem 1\", A, E, xi, yi, xf, yf, vc)\n",
    "print(Elem_1)"
   ]
  },
  {
   "cell_type": "code",
   "execution_count": null,
   "metadata": {},
   "outputs": [],
   "source": []
  },
  {
   "cell_type": "code",
   "execution_count": null,
   "metadata": {},
   "outputs": [],
   "source": []
  }
 ],
 "metadata": {
  "kernelspec": {
   "display_name": "Python 3",
   "language": "python",
   "name": "python3"
  },
  "language_info": {
   "codemirror_mode": {
    "name": "ipython",
    "version": 3
   },
   "file_extension": ".py",
   "mimetype": "text/x-python",
   "name": "python",
   "nbconvert_exporter": "python",
   "pygments_lexer": "ipython3",
   "version": "3.7.6"
  }
 },
 "nbformat": 4,
 "nbformat_minor": 4
}
