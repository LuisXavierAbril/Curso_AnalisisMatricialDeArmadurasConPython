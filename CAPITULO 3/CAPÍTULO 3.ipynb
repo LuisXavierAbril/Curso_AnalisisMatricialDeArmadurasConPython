{
 "cells": [
  {
   "cell_type": "markdown",
   "metadata": {},
   "source": [
    "## CLASE: MiembroArmadura()"
   ]
  },
  {
   "cell_type": "code",
   "execution_count": 17,
   "metadata": {},
   "outputs": [],
   "source": [
    "#############\n",
    "# Librerias #\n",
    "#############\n",
    "\n",
    "import math\n",
    "import numpy as np\n",
    "\n",
    "#########\n",
    "# Clase #\n",
    "#########\n",
    "\n",
    "class MiembroArmadura():\n",
    "    '''  \n",
    "    Descripción:\n",
    "    Esta clase sirve para obtener las propiedades de cualquier elemento de una armadura.\n",
    "    \n",
    "    Funciones:\n",
    "    --> Longitud(self)\n",
    "    --> Rig_Loc(self)\n",
    "    --> def Lambda_X(self)\n",
    "    --> def Lambda_Y(self)\n",
    "    --> def Trans(self)\n",
    "    --> def Rig_Glob(self)\n",
    "    \n",
    "    Programó:\n",
    "    M. en I. Josue Emmanuel Cruz Barragan\n",
    "    '''\n",
    "    def __init__(self, elemento, area, modElasticidad, coordenada_xi, coordenada_yi, coordenada_xf, coordenada_yf, vec_coord):\n",
    "        \n",
    "        ####################\n",
    "        # Datos de entrada #\n",
    "        ####################\n",
    "        \n",
    "        self.elem = elemento\n",
    "        self.A = area\n",
    "        self.E = modElasticidad\n",
    "        self.xi = coordenada_xi\n",
    "        self.yi = coordenada_yi\n",
    "        self.xf = coordenada_xf\n",
    "        self.yf = coordenada_yf\n",
    "        self.vc = vec_coord\n",
    "        \n",
    "        ###############\n",
    "        # Propiedades #\n",
    "        ###############\n",
    "        \n",
    "        self.L = self.Longitud()\n",
    "        self.k_loc = self.Rig_Loc()\n",
    "        self.lx = self.Lambda_X()\n",
    "        self.ly = self.Lambda_Y()\n",
    "        self.T = self.Trans()\n",
    "        self.k_glob = self.Rig_Glob()\n",
    "        \n",
    "        #######################################################\n",
    "        # Funciones para obtener las propiedades del elemento #\n",
    "        #######################################################\n",
    "        \n",
    "    def __str__(self):\n",
    "        print(\"Area: \", self.A)\n",
    "        print(\"Mod. Elasticidad: \", self.E)\n",
    "        print(\"Coordenadas Iniciales: ({} , {})\".format(self.xi, self.yi))\n",
    "        print(\"Coordenadas Finales: ({} , {})\".format(self.xf, self.yf))\n",
    "        print(\"Vector de Cooredenadas: \", self.vc)\n",
    "        print(\"Longitud: \", self.L)\n",
    "        print(\"Rigidez Local:\", self.k_loc)\n",
    "        print(\"Lx = \", self.lx,\"  Ly = \", self.ly )\n",
    "        print(\"Matriz de Transformacion: \", self.T)\n",
    "        print(\"\")\n",
    "        print(\"Rigidez global del elemento:\", self.k_glob)\n",
    "        return \"\"\n",
    "    \n",
    "    def Longitud(self):\n",
    "        \"\"\"Calcula la longitud del elemento.\"\"\"\n",
    "        return math.sqrt((self.xf-self.xi)**2 + (self.yf-self.yi)**2)\n",
    "    \n",
    "    def Rig_Loc(self):\n",
    "        \"\"\"Calcula la matriz de rigidez local del elemento.\"\"\"\n",
    "        return (self.A*self.E/self.L) * np.array([[1,-1],[-1,1]])\n",
    "    \n",
    "    def Lambda_X(self):\n",
    "        \"\"\"Calcula la lambda X del elemento.\"\"\"\n",
    "        return (self.xf-self.xi)/self.L\n",
    "    \n",
    "    def Lambda_Y(self):\n",
    "        \"\"\"Calcula la lambda Y del elemento.\"\"\"\n",
    "        return (self.yf-self.yi)/self.L\n",
    "    \n",
    "    def Trans(self):\n",
    "        \"\"\"Calcula la matriz de tarnsformación del elemento.\"\"\"\n",
    "        return np.array([[self.lx, self.ly, 0, 0],[0, 0, self.lx, self.ly]])\n",
    "    \n",
    "    def Rig_Glob(self):\n",
    "        \"\"\"Calcula la matriz de rigidez global del elemento.\"\"\"\n",
    "        Tt = np.transpose(self.T)\n",
    "        Tt_k_loc = np.matmul(Tt,self.k_loc)\n",
    "        return np.matmul(Tt_k_loc,self.T)\n"
   ]
  },
  {
   "cell_type": "markdown",
   "metadata": {},
   "source": [
    "# CAPÍTULO 3."
   ]
  },
  {
   "cell_type": "markdown",
   "metadata": {},
   "source": [
    "## TABLAS QUE SE USARÁN COMO DATOS DE ENTRADA EN LA NUEVA CLASE."
   ]
  },
  {
   "cell_type": "markdown",
   "metadata": {},
   "source": [
    "### Tabla de Elementos y Nodos:"
   ]
  },
  {
   "cell_type": "markdown",
   "metadata": {},
   "source": [
    "<img src=\"Img/elem_nod.png\">"
   ]
  },
  {
   "cell_type": "markdown",
   "metadata": {},
   "source": [
    "### Tabla de Fuerzas y Desplazamientos:"
   ]
  },
  {
   "cell_type": "markdown",
   "metadata": {},
   "source": [
    "<img src=\"Img/fuerza_desp.png\">"
   ]
  },
  {
   "cell_type": "markdown",
   "metadata": {},
   "source": [
    "## CLASE: AnalisisMatrcial."
   ]
  },
  {
   "cell_type": "markdown",
   "metadata": {},
   "source": [
    "<img src=\"Img/ClaseAnalisisMatricial.png\">"
   ]
  },
  {
   "cell_type": "markdown",
   "metadata": {},
   "source": [
    "## FUNCIONES QUE SE PROGRAMARÁN EN EL CODIGO:"
   ]
  },
  {
   "cell_type": "markdown",
   "metadata": {},
   "source": [
    "<img src=\"Img/vectorcoordenadasglobales.png\">"
   ]
  },
  {
   "cell_type": "markdown",
   "metadata": {},
   "source": [
    "<img src=\"Img/matrizPI.png\">"
   ]
  },
  {
   "cell_type": "markdown",
   "metadata": {},
   "source": [
    "<img src=\"Img/Armadura.png\">"
   ]
  },
  {
   "cell_type": "markdown",
   "metadata": {},
   "source": [
    "<img src=\"Img/matrizrigidezglobal.png\">"
   ]
  },
  {
   "cell_type": "markdown",
   "metadata": {},
   "source": [
    "## CÓDIGO."
   ]
  },
  {
   "cell_type": "code",
   "execution_count": 18,
   "metadata": {},
   "outputs": [],
   "source": [
    "#########\n",
    "# Clase #\n",
    "#########\n",
    "\n",
    "class AnalisisMatricial():\n",
    "    '''  \n",
    "    Descripción:\n",
    "    Esta clase sirve para resolver cualquier armadura en 2D, tanto isostatica como hiperestatica. Tambien nos permite acceder \n",
    "    a las propiedades de cuaquiera de sus elementos y a las reacciones, desplazamientos, fuerzas internas, etc.\n",
    "    \n",
    "    Funciones:\n",
    "    --> VectorCoordenadasGlobales(self)\n",
    "    --> Matriz_PI(self)\n",
    "    --> Armadura(self)\n",
    "    --> MatrizRigidezGlobal(self)\n",
    "    --> y más ...\n",
    "    \n",
    "    Programó:\n",
    "    M. en I. Josue Emmanuel Cruz Barragan\n",
    "    '''\n",
    "    def __init__(self, tbl_Elem, tbl_Nods, tbl_Frza, tbl_Desp):\n",
    "        \n",
    "        ####################\n",
    "        # Datos de entrada #\n",
    "        ####################\n",
    "        \n",
    "        self.tE = tbl_Elem # Tabla de elementos.\n",
    "        self.tN = tbl_Nods # Tabla de nodos.\n",
    "        self.tF = tbl_Frza # Tabla de fuerzas.\n",
    "        self.tD = tbl_Desp # Tabla de desplazamientos.\n",
    "        \n",
    "        ###############\n",
    "        # Propiedades #\n",
    "        ###############\n",
    "        \n",
    "        self.nE = len(self.tE) # Número de elementos en la estructura.\n",
    "        self.nN = len(self.tN) # Número de nodos en la estructura.\n",
    "        self.nGl = self.nN*2 # Número de grados de libertad en la estructura.\n",
    "        # [Número de reacciones, Número de fuerzas conocidas, Diccionario de nodos]\n",
    "        [self.nR, self.nFc, self.N] = self.VectorCoordenadasGlobales()\n",
    "        self.PI = np.array(self.Matriz_PI()) # Matriz PI.\n",
    "        self.Armad = self.Armadura() # Lista de las propiedades de los elementos.\n",
    "        self.Kg = self.MatrizRigidezGlobal() # Matriz de rigidez global del elemento.\n",
    "        \n",
    "        \n",
    "        #########################\n",
    "        # Funciones de la clase #\n",
    "        #########################\n",
    "        \n",
    "    def __str__(self):\n",
    "        print(\"Numero de Elementos: \", self.nE)\n",
    "        print(\"Numero de Nodos: \", self.nN)\n",
    "        print(\"Numero de Grados de Libertad: \", self.nGl)\n",
    "        print(\"Numero de Reacciones: \", self.nR)\n",
    "        print(\"Numero de Fuerzas Conocidas: \", self.nFc)\n",
    "        print(\"Diccionario de Nodos: \", self.N)\n",
    "        print(\"\\n Matriz PI: \\n\", self.PI)\n",
    "        print(\"\\n Elemento 3: \\n\", self.Armad[2])\n",
    "        print(\"\\n Matriz de Rigidez Global de la Armadura: \\n\", self.Kg)\n",
    "        return \"\"\n",
    "    \n",
    "    def VectorCoordenadasGlobales(self):\n",
    "        \"\"\"Calcula el número de reacciones, número de fuerzas conocidas y un diccionario de nodos.\"\"\"\n",
    "        numReacciones = 0\n",
    "        DiccionarioNodos = {}\n",
    "        c = 1\n",
    "        gl = self.nGl\n",
    "        \n",
    "        for i in range(self.nN):\n",
    "            tipo = self.tN[i][3]\n",
    "            \n",
    "            NODO_key = self.tN[i][0]\n",
    "            cx = self.tN[i][1]\n",
    "            cy = self.tN[i][2]\n",
    "            \n",
    "            \n",
    "            if tipo == \"Libre\":\n",
    "                numReacciones += 0\n",
    "                DiccionarioNodos.setdefault(NODO_key, [cx, cy, c, c+1])\n",
    "                c+=2\n",
    "                \n",
    "            elif tipo == \"Fijo\":\n",
    "                numReacciones += 2\n",
    "                DiccionarioNodos.setdefault(NODO_key, [cx, cy, gl-1, gl])\n",
    "                gl-=2\n",
    "            \n",
    "            elif tipo == \"DX\":\n",
    "                numReacciones += 1\n",
    "                DiccionarioNodos.setdefault(NODO_key, [cx, cy])\n",
    "            \n",
    "            elif tipo == \"DY\":\n",
    "                numReacciones += 1\n",
    "                DiccionarioNodos.setdefault(NODO_key, [cx, cy])\n",
    "                \n",
    "        numFuerzasConocidas = self.nGl - numReacciones  \n",
    "        return numReacciones, numFuerzasConocidas, DiccionarioNodos\n",
    "    \n",
    "    def Matriz_PI(self):\n",
    "        \"\"\"Calcula la matriz de permutación PI.\"\"\"\n",
    "        PI = []\n",
    "        for i in range(self.nE):\n",
    "            ni = self.tE[i][3]\n",
    "            nf = self.tE[i][4]\n",
    "            PI.append([self.N[ni][2],self.N[ni][3],self.N[nf][2],self.N[nf][3]])\n",
    "        return PI\n",
    "    \n",
    "    def Armadura(self):\n",
    "        \"\"\"Calcula la lista de propiedades de cada elemento de la armadura.\"\"\"\n",
    "        Elem = []\n",
    "        for i in range(self.nE):\n",
    "            el = self.tE[i][0]\n",
    "            a = self.tE[i][1]\n",
    "            me = self.tE[i][2]\n",
    "            NI = self.tE[i][3]\n",
    "            NF = self.tE[i][4]\n",
    "            xi = self.N[NI][0]\n",
    "            yi = self.N[NI][1]\n",
    "            xf = self.N[NF][0]\n",
    "            yf = self.N[NF][1]\n",
    "            clix = self.N[NI][2]\n",
    "            cliy = self.N[NI][3]\n",
    "            clfx = self.N[NF][2]\n",
    "            clfy = self.N[NF][3]\n",
    "            Elem.append(MiembroArmadura(el, a, me, xi, yi, xf, yf, [clix, cliy, clfx, clfy]))\n",
    "        return Elem\n",
    "    \n",
    "    def MatrizRigidezGlobal(self):\n",
    "        \"\"\"Calcula la matriz de rigidez global de la armadura.\"\"\"\n",
    "        K = np.zeros((self.nGl, self.nGl))\n",
    "        for e in range(self.nE):\n",
    "            ke_global = self.Armad[e].k_glob\n",
    "            for i in range(4):\n",
    "                for j in range(4):\n",
    "                    a = self.PI[e,i]-1\n",
    "                    b = self.PI[e,j]-1\n",
    "                    K[a,b] = ke_global[i,j] + K[a,b]\n",
    "        return K"
   ]
  },
  {
   "cell_type": "markdown",
   "metadata": {},
   "source": [
    "## EJEMPLO."
   ]
  },
  {
   "cell_type": "markdown",
   "metadata": {},
   "source": [
    "<img src=\"Img/Ejemplo.png\">"
   ]
  },
  {
   "cell_type": "code",
   "execution_count": 19,
   "metadata": {},
   "outputs": [
    {
     "name": "stdout",
     "output_type": "stream",
     "text": [
      "Numero de Elementos:  7\n",
      "Numero de Nodos:  5\n",
      "Numero de Grados de Libertad:  10\n",
      "Numero de Reacciones:  4\n",
      "Numero de Fuerzas Conocidas:  6\n",
      "Diccionario de Nodos:  {'N1': [14, 7, 1, 2], 'N2': [7, 7, 3, 4], 'N3': [0, 7, 9, 10], 'N4': [0, 0, 7, 8], 'N5': [7, 0, 5, 6]}\n",
      "\n",
      " Matriz PI: \n",
      " [[ 5  6  1  2]\n",
      " [ 3  4  1  2]\n",
      " [ 9 10  3  4]\n",
      " [ 3  4  5  6]\n",
      " [ 9 10  5  6]\n",
      " [ 7  8  5  6]\n",
      " [ 7  8  9 10]]\n",
      "\n",
      " Elemento 3: \n",
      " Area:  2\n",
      "Mod. Elasticidad:  1800\n",
      "Coordenadas Iniciales: (0 , 7)\n",
      "Coordenadas Finales: (7 , 7)\n",
      "Vector de Cooredenadas:  [9, 10, 3, 4]\n",
      "Longitud:  7.0\n",
      "Rigidez Local: [[ 514.28571429 -514.28571429]\n",
      " [-514.28571429  514.28571429]]\n",
      "Lx =  1.0   Ly =  0.0\n",
      "Matriz de Transformacion:  [[1. 0. 0. 0.]\n",
      " [0. 0. 1. 0.]]\n",
      "\n",
      "Rigidez global del elemento: [[ 514.28571429    0.         -514.28571429    0.        ]\n",
      " [   0.            0.            0.            0.        ]\n",
      " [-514.28571429    0.          514.28571429    0.        ]\n",
      " [   0.            0.            0.            0.        ]]\n",
      "\n",
      "\n",
      " Matriz de Rigidez Global de la Armadura: \n",
      " [[ 696.11317231  181.82745802 -514.28571429    0.         -181.82745802\n",
      "  -181.82745802    0.            0.            0.            0.        ]\n",
      " [ 181.82745802  181.82745802    0.            0.         -181.82745802\n",
      "  -181.82745802    0.            0.            0.            0.        ]\n",
      " [-514.28571429    0.         1028.57142857    0.            0.\n",
      "     0.            0.            0.         -514.28571429    0.        ]\n",
      " [   0.            0.            0.          514.28571429    0.\n",
      "  -514.28571429    0.            0.            0.            0.        ]\n",
      " [-181.82745802 -181.82745802    0.            0.          877.94063032\n",
      "     0.         -514.28571429    0.         -181.82745802  181.82745802]\n",
      " [-181.82745802 -181.82745802    0.         -514.28571429    0.\n",
      "   877.94063032    0.            0.          181.82745802 -181.82745802]\n",
      " [   0.            0.            0.            0.         -514.28571429\n",
      "     0.          514.28571429    0.            0.            0.        ]\n",
      " [   0.            0.            0.            0.            0.\n",
      "     0.            0.          514.28571429    0.         -514.28571429]\n",
      " [   0.            0.         -514.28571429    0.         -181.82745802\n",
      "   181.82745802    0.            0.          696.11317231 -181.82745802]\n",
      " [   0.            0.            0.            0.          181.82745802\n",
      "  -181.82745802    0.         -514.28571429 -181.82745802  696.11317231]]\n",
      "\n"
     ]
    }
   ],
   "source": [
    "A = 2 # Área en, m2\n",
    "E = 1800 # Modulo de Elasticidad en, kgf/m2\n",
    "\n",
    "# Tabla de Elementos:\n",
    "tbl_Elem = [\n",
    "    ['E1', A, E, 'N5', 'N1'],\n",
    "    ['E2', A, E, 'N2', 'N1'],\n",
    "    ['E3', A, E, 'N3', 'N2'],\n",
    "    ['E4', A, E, 'N2', 'N5'],\n",
    "    ['E5', A, E, 'N3', 'N5'],\n",
    "    ['E6', A, E, 'N4', 'N5'],\n",
    "    ['E7', A, E, 'N4', 'N3']]\n",
    "     \n",
    "# Tabla de Nodos:\n",
    "tbl_Nods = [\n",
    "    ['N1', 14, 7, \"Libre\"],\n",
    "    ['N2', 7, 7, \"Libre\"],\n",
    "    ['N3', 0, 7, \"Fijo\"],\n",
    "    ['N4', 0, 0, \"Fijo\"],\n",
    "    ['N5', 7, 0, \"Libre\"]]\n",
    "\n",
    "# Tabla de Fuerzas:\n",
    "tbl_Frza = [\n",
    "    [ -3, 'N2', 'DY'],\n",
    "    [ -2, 'N1', 'DY']]\n",
    "\n",
    "# Tabla de Desplazamientos:\n",
    "tbl_Desp = [\n",
    "    [ 0, 'N3', 'DX'],\n",
    "    [ 0, 'N3', 'DY'],\n",
    "    [ 0, 'N4', 'DX'],\n",
    "    [ 0, 'N4', 'DY']]\n",
    "\n",
    "AE = AnalisisMatricial(tbl_Elem, tbl_Nods, tbl_Frza, tbl_Desp)\n",
    "print(AE)"
   ]
  },
  {
   "cell_type": "code",
   "execution_count": null,
   "metadata": {},
   "outputs": [],
   "source": []
  }
 ],
 "metadata": {
  "kernelspec": {
   "display_name": "Python 3",
   "language": "python",
   "name": "python3"
  },
  "language_info": {
   "codemirror_mode": {
    "name": "ipython",
    "version": 3
   },
   "file_extension": ".py",
   "mimetype": "text/x-python",
   "name": "python",
   "nbconvert_exporter": "python",
   "pygments_lexer": "ipython3",
   "version": "3.7.6"
  }
 },
 "nbformat": 4,
 "nbformat_minor": 4
}
